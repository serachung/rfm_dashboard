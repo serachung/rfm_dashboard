{
 "cells": [
  {
   "cell_type": "code",
   "execution_count": null,
   "id": "839d87dc",
   "metadata": {},
   "outputs": [
    {
     "ename": "",
     "evalue": "",
     "output_type": "error",
     "traceback": [
      "\u001b[1;31mRunning cells with 'Python' requires the ipykernel package.\n",
      "\u001b[1;31m<a href='command:jupyter.createPythonEnvAndSelectController'>Create a Python Environment</a> with the required packages.\n",
      "\u001b[1;31mOr install 'ipykernel' using the command: '/Users/serachung/Downloads/rfv_whatsapp_dashboard_complete/venv/bin/python -m pip install ipykernel -U --user --force-reinstall'"
     ]
    }
   ],
   "source": [
    "import pandas as pd\n",
    "import gspread\n",
    "from google.oauth2.service_account import Credentials\n",
    "from dotenv import load_dotenv\n",
    "from pathlib import Path\n",
    "import os"
   ]
  },
  {
   "cell_type": "code",
   "execution_count": null,
   "id": "aeb0361d",
   "metadata": {},
   "outputs": [],
   "source": [
    "\n",
    "load_dotenv(dotenv_path=Path(\"config/.env\"))\n",
    "\n",
    "creds = Credentials.from_service_account_file(\n",
    "    os.getenv(\"GOOGLE_SERVICE_ACCOUNT_FILE\"),\n",
    "    scopes=['https://www.googleapis.com/auth/spreadsheets']\n",
    ")\n",
    "\n",
    "gc = gspread.authorize(creds)\n",
    "sheet = gc.open_by_url(os.getenv(\"GOOGLE_SHEET_URL\"))\n",
    "\n",
    "pedidos = pd.DataFrame(sheet.worksheet(\"Pedidos\").get_all_records())\n",
    "\n",
    "print(\"Pedidos columns:\", pedidos.columns.tolist())\n",
    "print(pedidos.head())\n"
   ]
  }
 ],
 "metadata": {
  "kernelspec": {
   "display_name": "Python 3",
   "language": "python",
   "name": "python3"
  },
  "language_info": {
   "name": "python",
   "version": "3.13.0"
  }
 },
 "nbformat": 4,
 "nbformat_minor": 5
}
